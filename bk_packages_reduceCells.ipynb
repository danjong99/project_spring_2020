{
 "cells": [
  {
   "cell_type": "markdown",
   "metadata": {},
   "source": [
    "Load required packages and data files for further analysis."
   ]
  },
  {
   "cell_type": "code",
   "execution_count": 17,
   "metadata": {},
   "outputs": [
    {
     "data": {
      "text/plain": [
       "'/Users/kangb3/github/project_spring_2020_dup'"
      ]
     },
     "execution_count": 17,
     "metadata": {},
     "output_type": "execute_result"
    }
   ],
   "source": [
    "%pwd"
   ]
  },
  {
   "cell_type": "code",
   "execution_count": 18,
   "metadata": {
    "scrolled": true
   },
   "outputs": [
    {
     "name": "stdout",
     "output_type": "stream",
     "text": [
      "Starting in /Users/kangb3/github/project_spring_2020_dup\n",
      "Removing old directory...\n",
      "Creating /Users/kangb3/github/project_spring_2020_dup/bk_packages...\n",
      "The current working directory is now /Users/kangb3/github/project_spring_2020_dup/bk_packages\n"
     ]
    }
   ],
   "source": [
    "from class_setup import create_package_dir\n",
    "create_package_dir(\"bk_packages\")"
   ]
  },
  {
   "cell_type": "code",
   "execution_count": 19,
   "metadata": {},
   "outputs": [],
   "source": [
    "from pathlib import Path\n",
    "package_name = \"bk_packages\"\n",
    "Path('tests').mkdir()\n",
    "python_dir = Path(package_name)\n",
    "python_dir.mkdir()\n",
    "(python_dir / '__init__.py').touch()\n",
    "Path('setup.py').touch()\n",
    "Path('LICENSE').touch()\n",
    "Path('README.md').touch()"
   ]
  },
  {
   "cell_type": "code",
   "execution_count": 20,
   "metadata": {},
   "outputs": [
    {
     "data": {
      "text/plain": [
       "'/Users/kangb3/github/project_spring_2020_dup/bk_packages'"
      ]
     },
     "execution_count": 20,
     "metadata": {},
     "output_type": "execute_result"
    }
   ],
   "source": [
    "%pwd"
   ]
  },
  {
   "cell_type": "code",
   "execution_count": 21,
   "metadata": {},
   "outputs": [
    {
     "name": "stdout",
     "output_type": "stream",
     "text": [
      "Overwriting setup.py\n"
     ]
    }
   ],
   "source": [
    "%%writefile setup.py\n",
    "import setuptools\n",
    "\n",
    "with open(\"README.md\", \"r\") as fh:\n",
    "    long_description = fh.read()\n",
    "\n",
    "setuptools.setup(\n",
    "    name=\"bk_pakages\", \n",
    "    version=\"0.0.1\",\n",
    "    author=\"byunghyun_kang\",\n",
    "    author_email=\"danjong99@gmail.com\",\n",
    "    description=\"A small python package which downsizes input scRNAseq matrix\",\n",
    "    long_description=long_description,\n",
    "    long_description_content_type=\"text/markdown\",\n",
    "    url=\"https://github.com/danjong99/project_spring_2020\",\n",
    "    packages=setuptools.find_packages(),\n",
    "    classifiers=[\n",
    "        \"Programming Language :: Python :: 3\",\n",
    "        \"License :: OSI Approved :: MIT License\",\n",
    "        \"Operating System :: OS Independent\",\n",
    "    ],\n",
    "    python_requires='>=3.6',\n",
    "\n",
    ")"
   ]
  },
  {
   "cell_type": "code",
   "execution_count": 22,
   "metadata": {},
   "outputs": [
    {
     "name": "stdout",
     "output_type": "stream",
     "text": [
      "Overwriting README.md\n"
     ]
    }
   ],
   "source": [
    "%%writefile README.md\n",
    "# Single Cell Random Drawing\n",
    "\n",
    "This python package will enable for users to reduce the size of input scRNAseq matrix by random selection of a given number of samples within pre-defined clusters and averaging the gene expression value of the chosen cells.\n",
    "\n",
    "# Input\n",
    "  1. Expression matrix of scRNAseq (gene by cells)\n",
    "  2. Metadata (cell ids and cluster or cell type info)\n",
    "  3. For visualization, pre-calculated tSNE or UMAP coordinates can be tossed along with meatadata\n",
    "\n",
    "# Returns\n",
    "  1. shrunken matrix\n",
    "  2. shrunken metadata\n",
    "  3. cell.ids of randomly selected cells\n",
    "  4. tSNE plot, if the coordinates were given.\n",
    "\n",
    "# The benefit of downsizing cells with averaging the exprssion levels of gene?\n",
    "  1. downsizing itself reduce the calculation burden --> reducing calculation time\n",
    "  2. Increase the resolution of differential gene expressin.\n",
    "\n",
    "(e.g. assume that you have 400 cells in cluster 1 of your scRNAseq data, and if you set the number of cells to be chosen as 20, then 20 cells from cluster 1 of your data will be randomly and repeatedly selected with no replacement. This process will downsize the cluster 1 from 400 cells to 20 cells with better gene expression resolution.)"
   ]
  },
  {
   "cell_type": "code",
   "execution_count": 23,
   "metadata": {},
   "outputs": [
    {
     "name": "stdout",
     "output_type": "stream",
     "text": [
      "Overwriting LICENSE\n"
     ]
    }
   ],
   "source": [
    "%%writefile LICENSE\n",
    "Copyright (c) 2018 The Python Packaging Authority\n",
    "\n",
    "Permission is hereby granted, free of charge, to any person obtaining a copy\n",
    "of this software and associated documentation files (the \"Software\"), to deal\n",
    "in the Software without restriction, including without limitation the rights\n",
    "to use, copy, modify, merge, publish, distribute, sublicense, and/or sell\n",
    "copies of the Software, and to permit persons to whom the Software is\n",
    "furnished to do so, subject to the following conditions:\n",
    "\n",
    "The above copyright notice and this permission notice shall be included in all\n",
    "copies or substantial portions of the Software.\n",
    "\n",
    "THE SOFTWARE IS PROVIDED \"AS IS\", WITHOUT WARRANTY OF ANY KIND, EXPRESS OR\n",
    "IMPLIED, INCLUDING BUT NOT LIMITED TO THE WARRANTIES OF MERCHANTABILITY,\n",
    "FITNESS FOR A PARTICULAR PURPOSE AND NONINFRINGEMENT. IN NO EVENT SHALL THE\n",
    "AUTHORS OR COPYRIGHT HOLDERS BE LIABLE FOR ANY CLAIM, DAMAGES OR OTHER\n",
    "LIABILITY, WHETHER IN AN ACTION OF CONTRACT, TORT OR OTHERWISE, ARISING FROM,\n",
    "OUT OF OR IN CONNECTION WITH THE SOFTWARE OR THE USE OR OTHER DEALINGS IN THE\n",
    "SOFTWARE."
   ]
  },
  {
   "cell_type": "code",
   "execution_count": 24,
   "metadata": {},
   "outputs": [
    {
     "data": {
      "text/plain": [
       "'/Users/kangb3/github/project_spring_2020_dup/bk_packages'"
      ]
     },
     "execution_count": 24,
     "metadata": {},
     "output_type": "execute_result"
    }
   ],
   "source": [
    "%pwd"
   ]
  },
  {
   "cell_type": "markdown",
   "metadata": {},
   "source": [
    "Defined Functions Needed For the Following Analysis"
   ]
  },
  {
   "cell_type": "code",
   "execution_count": 25,
   "metadata": {},
   "outputs": [
    {
     "name": "stdout",
     "output_type": "stream",
     "text": [
      "Writing bk_packages/basic_methods.py\n"
     ]
    }
   ],
   "source": [
    "%%writefile bk_packages/basic_methods.py\n",
    "\n",
    "def clusTocell_dic_generator(meta):\n",
    "    \"\"\"Return {cluster:cell.ids} dictionary \"\"\"\n",
    "    temp = [meta[i][2] for i in range(0,len(meta))] # extract cell cluster info\n",
    "    unique_cluster = unique(temp[1:])         # take unique cluster info\n",
    "    unique_cluster = sorted(unique_cluster)\n",
    "    \n",
    "    meta_by_cluster = []\n",
    "    meta_dic = {}\n",
    "    \n",
    "    ## group cell.ids based on their cluster\n",
    "    for cluster in unique_cluster:\n",
    "        index = [i for i, n in enumerate(temp) if n == cluster] # extract the indices of rows in a given cluster\n",
    "        a = [meta[i][1:3] for i in index] # using the indices, extract cell.id and assigned cluster info.\n",
    "        meta_by_cluster.append(a)\n",
    "    \n",
    "    # convert the list acquired above to dictionary with the cluster as keys\n",
    "    for j in range(0, len(unique_cluster)):\n",
    "        meta_dic[ meta_by_cluster[j][0][1] ] = [meta_by_cluster[j][i][0] for i in range(0, len(meta_by_cluster[j]))]\n",
    "    \n",
    "    return(meta_dic)\n",
    "\n",
    "def cellTogene_dic_generator(x):\n",
    "    \"\"\"Apply T-transformation and convert the list of lists to Dictionary\"\"\"\n",
    "    \"\"\"with cell.id as keys and gene expression as value\"\"\"\n",
    "    mtx_t = t(x)\n",
    "    mtx_dic = {}\n",
    "    \n",
    "    for line in mtx_t:\n",
    "        mtx_dic[line[0]] = line[1:]\n",
    "    \n",
    "    return(mtx_dic)\n",
    "\n",
    "def random_selector(meta_dic, num_to_select = 20):\n",
    "    \n",
    "    \"\"\"Random selection of cell.ids from each cluster\"\"\"\n",
    "    \n",
    "    import random\n",
    "    import math\n",
    "        \n",
    "    dic_random_items = {}\n",
    "    num_to_select = num_to_select  # this will be determined by user.\n",
    "    \n",
    "    for key in meta_dic.keys():\n",
    "        \n",
    "        clust_cell_ids = meta_dic[key].copy()\n",
    "        \n",
    "        # determine the number of cycle to run in the following loop.\n",
    "        if len(meta_dic[key]) < num_to_select:\n",
    "            print(\"Number of items to select exceeds the number of items in the list.\")\n",
    "            print(\"Remember this is random selection without replacement.\")\n",
    "            cycle_to_run = math.floor(len(meta_dic[key])/num_to_select)\n",
    "        elif len(meta_dic[key])%num_to_select == 0:\n",
    "            cycle_to_run = int(len(meta_dic[key])/num_to_select)\n",
    "        else:\n",
    "            cycle_to_run = math.ceil(len(meta_dic[key])/num_to_select)\n",
    "    \n",
    "        for i in range(0, cycle_to_run): # random sampling from the given list without replacement\n",
    "            if len(clust_cell_ids) > num_to_select:\n",
    "                a = random.sample(clust_cell_ids, num_to_select)\n",
    "                dic_random_items[ a[0] ] = a  # takes the first cell.id among selected ones as a key.\n",
    "                [clust_cell_ids.remove(a[i]) for i in range(0,len(a))] # selected cell.ids are removed from the dic.\n",
    "            elif len(clust_cell_ids) < num_to_select: # the remaining cells are taken \n",
    "                a = clust_cell_ids\n",
    "                dic_random_items[ a[0] ] = a\n",
    "    \n",
    "    return(dic_random_items)\n",
    "\n",
    "def geneAverage(mtx_dic, dic_random_items):\n",
    "    mtx_small = {}\n",
    "    a = mtx_dic['gene'].copy()\n",
    "    mtx_small['gene'] = a\n",
    "    \n",
    "    for key, values in dic_random_items.items():\n",
    "        temp = []\n",
    "        a = []\n",
    "        for value in values:\n",
    "            a = mtx_dic[ value ].copy()\n",
    "            temp.append(convert_to_float(a))\n",
    "        mtx_small[ key ] = rowMean(temp)\n",
    "    \n",
    "    [v.insert(0,k) for k, v in mtx_small.items()]\n",
    "    temp_2 = [x for x in mtx_small.values()]\n",
    "    \n",
    "    final_mtx = []\n",
    "    temp = t(temp_2)\n",
    "    final_mtx = temp.copy()\n",
    "    \n",
    "    return(final_mtx)\n",
    "\n",
    "def t(mtx):\n",
    "    \"\"\"T-transform the Input Matrix\"\"\"\n",
    "    try:\n",
    "        if type(mtx) is str: #if the input is str, raise exception.\n",
    "            raise Exception('Error: the input should be a list of lists.')\n",
    "        \n",
    "        for i in range(0, len(mtx)):\n",
    "            assert len(mtx[i]) == len(mtx[i-1]) # check whether each list has the same length.\n",
    "        \n",
    "        ## Execution code\n",
    "        mtx_t = []\n",
    "        for j in range(0, len(mtx[0])):\n",
    "            mtx_t.append( [mtx[i][j] for i in range(0,len(mtx))] )\n",
    "        return(mtx_t)\n",
    "    \n",
    "    except TypeError as detail: # Control TypeEorror.\n",
    "        return ('Error: the input should be a list of lists.')\n",
    "    except AssertionError as detail:\n",
    "        return ('Error: length of the lists should be the same')\n",
    "\n",
    "def convert_to_float(input_list):\n",
    "    \"\"\"Convert list of str to list of float\"\"\"\n",
    "    try:\n",
    "        list_float = [float(i) for i in input_list]\n",
    "        return(list_float)\n",
    "    except ValueError as detail:\n",
    "        return (\"input is not convertible to float.\")\n",
    "\n",
    "def unique(input_list):\n",
    "    \"\"\"Return unique value of the input list\"\"\"  \n",
    "    try:\n",
    "        # intilize a null list \n",
    "        unique_list = [] \n",
    "        # traverse for all elements \n",
    "        for x in input_list: \n",
    "            # check if exists in unique_list or not \n",
    "            if x not in unique_list: \n",
    "                unique_list.append(x)\n",
    "        return(unique_list)\n",
    "    except TypeError as detail:\n",
    "        return (\"int object is not iterable\")\n",
    "\n",
    "def rowSum(mtx):\n",
    "    \"\"\"Return all row-sums as a list\"\"\"\n",
    "    try:\n",
    "        for i in range(0, len(mtx)):\n",
    "            assert len(mtx[i]) == len(mtx[i-1]) # check whether each list has the same length.\n",
    "        \n",
    "        res = list()\n",
    "        for j in range(0, len(mtx[0])): \n",
    "            tmp = 0\n",
    "            for i in range(0, len(mtx)): \n",
    "                tmp = tmp + mtx[i][j]\n",
    "            res.append(tmp)\n",
    "        return(res)\n",
    "    \n",
    "    except AssertionError as detail:\n",
    "        return ('Length of lists is irregular or input format is wrong.')\n",
    "    except TypeError as detail:\n",
    "        return ('Undefined operand type')\n",
    "\n",
    "def rowMean(mtx):\n",
    "    \"\"\"Return all row-sums as a list\"\"\"\n",
    "    try:\n",
    "        for i in range(0, len(mtx)):\n",
    "            assert len(mtx[i]) == len(mtx[i-1]) # check whether each list has the same length.\n",
    "        \n",
    "        res = list()\n",
    "        for j in range(0, len(mtx[0])): \n",
    "            tmp = 0\n",
    "            for i in range(0, len(mtx)): \n",
    "                tmp = tmp + mtx[i][j]\n",
    "            res.append(tmp/len(mtx))\n",
    "        return(res)\n",
    "    \n",
    "    except AssertionError as detail:\n",
    "        return ('Length of lists is irregular or input format is wrong.')\n",
    "    except TypeError as detail:\n",
    "        return ('Undefined operand type')"
   ]
  },
  {
   "cell_type": "code",
   "execution_count": 39,
   "metadata": {},
   "outputs": [
    {
     "name": "stdout",
     "output_type": "stream",
     "text": [
      "Overwriting tests/test_basics.py\n"
     ]
    }
   ],
   "source": [
    "%%writefile tests/test_basics.py\n",
    "\n",
    "from bk_packages.basic_methods import *\n",
    "\n",
    "def test_t():\n",
    "    input_list = [[1,2,3],[4,5,6],[7,8,9],[10,11,12]]\n",
    "    obs = t(input_list)\n",
    "    exp = [[1, 4, 7, 10], [2, 5, 8, 11], [3, 6, 9, 12]]\n",
    "    assert obs == exp\n",
    "\n",
    "def test_convertTofloat():\n",
    "    input_list = ['1','2','3','4','5','6','7','8','9','10']\n",
    "    obs = convert_to_float(input_list)\n",
    "    exp = [1.0, 2.0, 3.0, 4.0, 5.0, 6.0, 7.0, 8.0, 9.0, 10.0]\n",
    "    assert obs == exp\n",
    "\n",
    "def test_unique():\n",
    "    input_list = [1,1,1,2,2,2,3,3,4,4,5,5,6,6,7,8,9,9,9,9,9,9,10]\n",
    "    obs = unique(input_list)\n",
    "    exp = [1, 2, 3, 4, 5, 6, 7, 8, 9, 10]\n",
    "    assert obs == exp\n",
    "\n",
    "def test_rowSum():\n",
    "    input_list = [[1,2,3],[4,5,6],[7,8,9],[10,11,12]]\n",
    "    obs = rowSum(input_list)\n",
    "    exp = [22, 26, 30]\n",
    "    assert obs == exp\n",
    "\n",
    "def test_rowMean():\n",
    "    input_list = [[1,2,3],[4,5,6],[7,8,9],[10,11,12]]\n",
    "    obs = rowMean(input_list)\n",
    "    exp = [5.5, 6.5, 7.5]\n",
    "    assert obs == exp"
   ]
  },
  {
   "cell_type": "code",
   "execution_count": 37,
   "metadata": {},
   "outputs": [
    {
     "name": "stdout",
     "output_type": "stream",
     "text": [
      "/Users/kangb3/github/project_spring_2020_dup/bk_packages\n"
     ]
    }
   ],
   "source": [
    "%pwd\n",
    "%cd .."
   ]
  },
  {
   "cell_type": "code",
   "execution_count": 38,
   "metadata": {},
   "outputs": [
    {
     "name": "stdout",
     "output_type": "stream",
     "text": [
      "Overwriting bk_packages/main.py\n"
     ]
    }
   ],
   "source": [
    "%%writefile bk_packages/main.py\n",
    "\n",
    "def main():\n",
    "\n",
    "    import os\n",
    "    import pandas as pd\n",
    "    from matplotlib import pyplot as plt\n",
    "    import seaborn as sns\n",
    "    from bk_packages.basic_methods import *\n",
    "    \n",
    "    DATA_FOLDER=\"/Users/kangb3/github/project_spring_2020_dup/data/import/\"\n",
    "    EXP_FNAME = os.path.join(DATA_FOLDER, \"exprs_mtx.txt\")\n",
    "    META_FNAME = os.path.join(DATA_FOLDER, \"metatable.txt\")\n",
    "    \n",
    "    #### Read Meta Files - read as list of lists\n",
    "    meta = []\n",
    "    with open(META_FNAME) as f_obj:\n",
    "        for line in f_obj:\n",
    "            res = line.replace('\"','').strip('\\n').split('\\t')\n",
    "            meta.append(res)\n",
    "    \n",
    "    ### Insert one element in the 1th list of the meta data\n",
    "    meta[0].insert(0,'rowname')\n",
    "    \n",
    "    ### Read matrix file - read as list of lists\n",
    "    mtx = []\n",
    "    with open(EXP_FNAME) as f_obj:\n",
    "        for line in f_obj:\n",
    "            res = line.replace('\"','').strip('\\n').split('\\t')\n",
    "            mtx.append(res)\n",
    "    \n",
    "    ### Insert one element in the 1th list of the mtx\n",
    "    mtx[0].insert(0,'gene')\n",
    "\n",
    "if __name__ == '__main__':\n",
    "    main()"
   ]
  },
  {
   "cell_type": "code",
   "execution_count": 2,
   "metadata": {},
   "outputs": [
    {
     "name": "stdout",
     "output_type": "stream",
     "text": [
      "/Users/kangb3/github/project_spring_2020_dup/bk_packages\n"
     ]
    }
   ],
   "source": [
    "%pwd\n",
    "%cd ./bk_packages/"
   ]
  },
  {
   "cell_type": "code",
   "execution_count": 3,
   "metadata": {
    "scrolled": true
   },
   "outputs": [
    {
     "name": "stdout",
     "output_type": "stream",
     "text": [
      "Obtaining file:///Users/kangb3/github/project_spring_2020_dup/bk_packages\n",
      "Installing collected packages: bk-pakages\n",
      "  Attempting uninstall: bk-pakages\n",
      "    Found existing installation: bk-pakages 0.0.1\n",
      "    Uninstalling bk-pakages-0.0.1:\n",
      "      Successfully uninstalled bk-pakages-0.0.1\n",
      "  Running setup.py develop for bk-pakages\n",
      "Successfully installed bk-pakages\n"
     ]
    }
   ],
   "source": [
    "!pip install -e ."
   ]
  },
  {
   "cell_type": "code",
   "execution_count": 4,
   "metadata": {
    "scrolled": true
   },
   "outputs": [
    {
     "name": "stdout",
     "output_type": "stream",
     "text": [
      "/Users/kangb3/github/project_spring_2020_dup/bk_packages/tests\n"
     ]
    }
   ],
   "source": [
    "%pwd\n",
    "%cd ./tests/"
   ]
  },
  {
   "cell_type": "code",
   "execution_count": 5,
   "metadata": {
    "scrolled": true
   },
   "outputs": [
    {
     "name": "stdout",
     "output_type": "stream",
     "text": [
      "\u001b[1m============================= test session starts ==============================\u001b[0m\r\n",
      "platform darwin -- Python 3.7.1, pytest-4.1.0, py-1.7.0, pluggy-0.8.0\r\n",
      "rootdir: /Users/kangb3/github/project_spring_2020_dup/bk_packages, inifile:\r\n",
      "plugins: remotedata-0.3.1, openfiles-0.3.1, doctestplus-0.2.0, dependency-0.4.0, arraydiff-0.2\r\n",
      "\u001b[1mcollecting ... \u001b[0m\u001b[1m\r",
      "collected 5 items                                                              \u001b[0m\r\n",
      "\r\n",
      "test_basics.py \u001b[32m.\u001b[0m\u001b[32m.\u001b[0m\u001b[32m.\u001b[0m\u001b[32m.\u001b[0m\u001b[32m.\u001b[0m\u001b[36m                                                     [100%]\u001b[0m\r\n",
      "\r\n",
      "\u001b[32m\u001b[1m=========================== 5 passed in 0.02 seconds ===========================\u001b[0m\r\n"
     ]
    }
   ],
   "source": [
    "!pytest"
   ]
  },
  {
   "cell_type": "code",
   "execution_count": 26,
   "metadata": {
    "scrolled": true
   },
   "outputs": [
    {
     "name": "stdout",
     "output_type": "stream",
     "text": [
      "/Users/kangb3/github/project_spring_2020_dup/bk_packages\n"
     ]
    }
   ],
   "source": [
    "%cd .."
   ]
  },
  {
   "cell_type": "code",
   "execution_count": 6,
   "metadata": {},
   "outputs": [],
   "source": [
    "import bk_packages"
   ]
  },
  {
   "cell_type": "code",
   "execution_count": 7,
   "metadata": {},
   "outputs": [
    {
     "ename": "NameError",
     "evalue": "name 'meta' is not defined",
     "output_type": "error",
     "traceback": [
      "\u001b[0;31m---------------------------------------------------------------------------\u001b[0m",
      "\u001b[0;31mNameError\u001b[0m                                 Traceback (most recent call last)",
      "\u001b[0;32m<ipython-input-7-81f8755c9679>\u001b[0m in \u001b[0;36m<module>\u001b[0;34m\u001b[0m\n\u001b[0;32m----> 1\u001b[0;31m \u001b[0mmeta\u001b[0m\u001b[0;34m\u001b[0m\u001b[0;34m\u001b[0m\u001b[0m\n\u001b[0m",
      "\u001b[0;31mNameError\u001b[0m: name 'meta' is not defined"
     ]
    }
   ],
   "source": [
    "meta"
   ]
  },
  {
   "cell_type": "code",
   "execution_count": 8,
   "metadata": {},
   "outputs": [
    {
     "ename": "NameError",
     "evalue": "name 'clusTocell_dic_generator' is not defined",
     "output_type": "error",
     "traceback": [
      "\u001b[0;31m---------------------------------------------------------------------------\u001b[0m",
      "\u001b[0;31mNameError\u001b[0m                                 Traceback (most recent call last)",
      "\u001b[0;32m<ipython-input-8-150fd9532227>\u001b[0m in \u001b[0;36m<module>\u001b[0;34m\u001b[0m\n\u001b[0;32m----> 1\u001b[0;31m \u001b[0mmeta_dic\u001b[0m \u001b[0;34m=\u001b[0m \u001b[0mclusTocell_dic_generator\u001b[0m\u001b[0;34m(\u001b[0m\u001b[0mmeta\u001b[0m\u001b[0;34m)\u001b[0m\u001b[0;34m\u001b[0m\u001b[0;34m\u001b[0m\u001b[0m\n\u001b[0m\u001b[1;32m      2\u001b[0m \u001b[0mmtx_dic\u001b[0m \u001b[0;34m=\u001b[0m \u001b[0mcellTogene_dic_generator\u001b[0m\u001b[0;34m(\u001b[0m\u001b[0mmtx\u001b[0m\u001b[0;34m)\u001b[0m\u001b[0;34m\u001b[0m\u001b[0;34m\u001b[0m\u001b[0m\n\u001b[1;32m      3\u001b[0m \u001b[0mdic_random_items\u001b[0m \u001b[0;34m=\u001b[0m \u001b[0mrandom_selector\u001b[0m\u001b[0;34m(\u001b[0m\u001b[0mmeta_dic\u001b[0m\u001b[0;34m=\u001b[0m\u001b[0mmeta_dic\u001b[0m\u001b[0;34m,\u001b[0m \u001b[0mnum_to_select\u001b[0m\u001b[0;34m=\u001b[0m\u001b[0;36m15\u001b[0m\u001b[0;34m)\u001b[0m\u001b[0;34m\u001b[0m\u001b[0;34m\u001b[0m\u001b[0m\n\u001b[1;32m      4\u001b[0m \u001b[0mfinal_mtx\u001b[0m \u001b[0;34m=\u001b[0m \u001b[0mgeneAverage\u001b[0m\u001b[0;34m(\u001b[0m\u001b[0mdic_random_items\u001b[0m\u001b[0;34m=\u001b[0m\u001b[0mdic_random_items\u001b[0m\u001b[0;34m,\u001b[0m \u001b[0mmtx_dic\u001b[0m\u001b[0;34m=\u001b[0m\u001b[0mmtx_dic\u001b[0m\u001b[0;34m)\u001b[0m\u001b[0;34m\u001b[0m\u001b[0;34m\u001b[0m\u001b[0m\n",
      "\u001b[0;31mNameError\u001b[0m: name 'clusTocell_dic_generator' is not defined"
     ]
    }
   ],
   "source": [
    "meta_dic = clusTocell_dic_generator(meta)\n",
    "mtx_dic = cellTogene_dic_generator(mtx)\n",
    "dic_random_items = random_selector(meta_dic=meta_dic, num_to_select=15)\n",
    "final_mtx = geneAverage(dic_random_items=dic_random_items, mtx_dic=mtx_dic)"
   ]
  },
  {
   "cell_type": "code",
   "execution_count": 58,
   "metadata": {},
   "outputs": [
    {
     "data": {
      "text/plain": [
       "['0610007P14Rik',\n",
       " 0.0,\n",
       " 0.0,\n",
       " 0.0,\n",
       " 0.0,\n",
       " 0.0,\n",
       " 0.13279030834039798,\n",
       " 0.0,\n",
       " 0.0,\n",
       " 0.0,\n",
       " 0.0,\n",
       " 0.39762926258357467,\n",
       " 0.0,\n",
       " 0.0,\n",
       " 0.0,\n",
       " 0.0,\n",
       " 0.0,\n",
       " 0.0,\n",
       " 0.0,\n",
       " 0.0,\n",
       " 0.0,\n",
       " 0.0,\n",
       " 0.0,\n",
       " 0.17995470510475267,\n",
       " 0.0,\n",
       " 0.0,\n",
       " 0.0,\n",
       " 0.3218082351227,\n",
       " 0.0,\n",
       " 0.21593752305254535,\n",
       " 0.0,\n",
       " 0.0,\n",
       " 0.0,\n",
       " 0.0,\n",
       " 0.0,\n",
       " 0.0,\n",
       " 0.0,\n",
       " 0.0,\n",
       " 0.0,\n",
       " 0.0,\n",
       " 0.0,\n",
       " 0.0,\n",
       " 0.0,\n",
       " 0.21850198123733133,\n",
       " 0.0,\n",
       " 0.0,\n",
       " 0.0,\n",
       " 0.0,\n",
       " 0.0,\n",
       " 0.0,\n",
       " 0.17595572972154935,\n",
       " 0.0,\n",
       " 0.0,\n",
       " 0.0,\n",
       " 0.0,\n",
       " 0.0,\n",
       " 0.0,\n",
       " 0.0,\n",
       " 0.0,\n",
       " 0.0,\n",
       " 0.0,\n",
       " 0.0,\n",
       " 0.0,\n",
       " 0.0,\n",
       " 0.0,\n",
       " 0.0,\n",
       " 0.0,\n",
       " 0.0,\n",
       " 0.0,\n",
       " 0.0,\n",
       " 0.0,\n",
       " 0.0,\n",
       " 0.0,\n",
       " 0.0,\n",
       " 0.0,\n",
       " 0.0,\n",
       " 0.0,\n",
       " 0.0,\n",
       " 0.0,\n",
       " 0.0,\n",
       " 0.0,\n",
       " 0.0,\n",
       " 0.0,\n",
       " 0.0,\n",
       " 0.2036064313124027,\n",
       " 0.0,\n",
       " 0.19401566009303867,\n",
       " 0.0,\n",
       " 0.13289973754951265,\n",
       " 0.0,\n",
       " 0.0,\n",
       " 0.0,\n",
       " 0.0,\n",
       " 0.0,\n",
       " 0.0,\n",
       " 0.0,\n",
       " 0.0,\n",
       " 0.0,\n",
       " 0.191971737677118,\n",
       " 0.0,\n",
       " 0.0,\n",
       " 0.0,\n",
       " 0.21785081230046,\n",
       " 0.0,\n",
       " 0.0,\n",
       " 0.0,\n",
       " 0.0,\n",
       " 0.0,\n",
       " 0.1713175229662053,\n",
       " 0.0,\n",
       " 0.0,\n",
       " 0.0,\n",
       " 0.0,\n",
       " 0.0,\n",
       " 0.0,\n",
       " 0.0,\n",
       " 0.0,\n",
       " 0.0,\n",
       " 0.0,\n",
       " 0.0,\n",
       " 0.0,\n",
       " 0.1591371344276727,\n",
       " 0.0,\n",
       " 0.0,\n",
       " 0.0,\n",
       " 0.0,\n",
       " 0.0,\n",
       " 0.11417374086992466,\n",
       " 0.0,\n",
       " 0.0,\n",
       " 0.19820815800166267,\n",
       " 0.0,\n",
       " 0.0,\n",
       " 0.0,\n",
       " 0.0,\n",
       " 0.0,\n",
       " 0.0,\n",
       " 0.0,\n",
       " 0.0,\n",
       " 0.0,\n",
       " 0.0,\n",
       " 0.0,\n",
       " 0.0,\n",
       " 0.0,\n",
       " 0.0,\n",
       " 0.0,\n",
       " 0.0,\n",
       " 0.0,\n",
       " 0.0,\n",
       " 0.0,\n",
       " 0.0,\n",
       " 0.0,\n",
       " 0.0,\n",
       " 0.0,\n",
       " 0.0,\n",
       " 0.0,\n",
       " 0.0,\n",
       " 0.0,\n",
       " 0.163490573336494,\n",
       " 0.0,\n",
       " 0.12114707565928133,\n",
       " 0.0,\n",
       " 0.09316654079495466,\n",
       " 0.0,\n",
       " 0.0,\n",
       " 0.0,\n",
       " 0.0,\n",
       " 0.0]"
      ]
     },
     "execution_count": 58,
     "metadata": {},
     "output_type": "execute_result"
    }
   ],
   "source": [
    "final_mtx[2]"
   ]
  },
  {
   "cell_type": "code",
   "execution_count": null,
   "metadata": {},
   "outputs": [],
   "source": [
    "    ## Export result matrix as txt file\n",
    "    with open(\"/Users/kangb3/github/project_spring_2020_dup/data/export/mtx_small.txt\", \"w\") as file:\n",
    "    for lines in final_mtx:\n",
    "        for line in lines:\n",
    "            file.write(str(line) + \"\\t\")\n",
    "        file.write(\"\\n\")\n",
    "    \n",
    "    ## Export the list of randomly selected cells and representative cells.\n",
    "    import csv\n",
    "    \n",
    "    with open('/Users/kangb3/github/project_spring_2020_dup/data/export/randomcells.csv', 'w') as f:\n",
    "        for key in dic_random_items.keys():\n",
    "            f.write(\"%s, %s\\n\" % (key, dic_random_items[key]))\n",
    "    \n",
    "    for k, v in dic_random_items.items():\n",
    "        print( \"Represeting Cell ID: \" + k + \" - Assigned Cluster: \" + str(meta_by_clus_dic[k]) + \" - Sample Number: \" + str(len(v)) )\n"
   ]
  },
  {
   "cell_type": "code",
   "execution_count": 67,
   "metadata": {},
   "outputs": [],
   "source": []
  },
  {
   "cell_type": "code",
   "execution_count": 54,
   "metadata": {
    "scrolled": true
   },
   "outputs": [
    {
     "ename": "NameError",
     "evalue": "name 'meta_by_clus_dic' is not defined",
     "output_type": "error",
     "traceback": [
      "\u001b[0;31m---------------------------------------------------------------------------\u001b[0m",
      "\u001b[0;31mNameError\u001b[0m                                 Traceback (most recent call last)",
      "\u001b[0;32m<ipython-input-54-fb95cd26d305>\u001b[0m in \u001b[0;36m<module>\u001b[0;34m\u001b[0m\n\u001b[1;32m      1\u001b[0m \u001b[0;32mfor\u001b[0m \u001b[0mk\u001b[0m\u001b[0;34m,\u001b[0m \u001b[0mv\u001b[0m \u001b[0;32min\u001b[0m \u001b[0mdic_random_items\u001b[0m\u001b[0;34m.\u001b[0m\u001b[0mitems\u001b[0m\u001b[0;34m(\u001b[0m\u001b[0;34m)\u001b[0m\u001b[0;34m:\u001b[0m\u001b[0;34m\u001b[0m\u001b[0;34m\u001b[0m\u001b[0m\n\u001b[0;32m----> 2\u001b[0;31m     \u001b[0mprint\u001b[0m\u001b[0;34m(\u001b[0m \u001b[0;34m\"Represeting Cell ID: \"\u001b[0m \u001b[0;34m+\u001b[0m \u001b[0mk\u001b[0m \u001b[0;34m+\u001b[0m \u001b[0;34m\" - Assigned Cluster: \"\u001b[0m \u001b[0;34m+\u001b[0m \u001b[0mstr\u001b[0m\u001b[0;34m(\u001b[0m\u001b[0mmeta_by_clus_dic\u001b[0m\u001b[0;34m[\u001b[0m\u001b[0mk\u001b[0m\u001b[0;34m]\u001b[0m\u001b[0;34m)\u001b[0m \u001b[0;34m+\u001b[0m \u001b[0;34m\" - Sample Number: \"\u001b[0m \u001b[0;34m+\u001b[0m \u001b[0mstr\u001b[0m\u001b[0;34m(\u001b[0m\u001b[0mlen\u001b[0m\u001b[0;34m(\u001b[0m\u001b[0mv\u001b[0m\u001b[0;34m)\u001b[0m\u001b[0;34m)\u001b[0m \u001b[0;34m)\u001b[0m\u001b[0;34m\u001b[0m\u001b[0;34m\u001b[0m\u001b[0m\n\u001b[0m",
      "\u001b[0;31mNameError\u001b[0m: name 'meta_by_clus_dic' is not defined"
     ]
    }
   ],
   "source": [
    "meta_by_clus_temp = []\n",
    "for i in range(0, len(meta_by_cluster)):\n",
    "    for j in range(0, len(meta_by_cluster[i])):\n",
    "        meta_by_clus_temp.append(meta_by_cluster[i][j])\n",
    "\n",
    "meta_by_clus_dic = {}\n",
    "for i in range(0, len(meta_by_clus_temp)):\n",
    "    meta_by_clus_dic[ meta_by_clus_temp[i][0] ] = meta_by_clus_temp[i][1]\n",
    "\n",
    "for k, v in dic_random_items.items():\n",
    "    print( \"Represeting Cell ID: \" + k + \" - Assigned Cluster: \" + str(meta_by_clus_dic[k]) + \" - Sample Number: \" + str(len(v)) )"
   ]
  }
 ],
 "metadata": {
  "kernelspec": {
   "display_name": "Python 3",
   "language": "python",
   "name": "python3"
  },
  "language_info": {
   "codemirror_mode": {
    "name": "ipython",
    "version": 3
   },
   "file_extension": ".py",
   "mimetype": "text/x-python",
   "name": "python",
   "nbconvert_exporter": "python",
   "pygments_lexer": "ipython3",
   "version": "3.7.1"
  }
 },
 "nbformat": 4,
 "nbformat_minor": 2
}
