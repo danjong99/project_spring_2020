{
 "cells": [
  {
   "cell_type": "code",
   "execution_count": 1,
   "metadata": {},
   "outputs": [
    {
     "data": {
      "text/plain": [
       "'/Users/kangb3/github/project_spring_2020'"
      ]
     },
     "execution_count": 1,
     "metadata": {},
     "output_type": "execute_result"
    }
   ],
   "source": [
    "%pwd"
   ]
  },
  {
   "cell_type": "code",
   "execution_count": 2,
   "metadata": {},
   "outputs": [
    {
     "name": "stdout",
     "output_type": "stream",
     "text": [
      "Starting in /Users/kangb3/github/project_spring_2020\n",
      "Creating /Users/kangb3/github/project_spring_2020/bk_packages...\n",
      "The current working directory is now /Users/kangb3/github/project_spring_2020/bk_packages\n"
     ]
    }
   ],
   "source": [
    "from class_setup import create_package_dir\n",
    "create_package_dir(\"bk_packages\")"
   ]
  },
  {
   "cell_type": "code",
   "execution_count": 4,
   "metadata": {
    "scrolled": true
   },
   "outputs": [
    {
     "name": "stdout",
     "output_type": "stream",
     "text": [
      "/Users/kangb3/github/project_spring_2020\n"
     ]
    }
   ],
   "source": [
    "%cd .."
   ]
  },
  {
   "cell_type": "code",
   "execution_count": 6,
   "metadata": {},
   "outputs": [],
   "source": [
    "from pathlib import Path\n",
    "package_name = \"bk_packages\"\n",
    "#python_dir = Path(package_name)\n",
    "#python_dir.mkdir()\n",
    "(python_dir / '__init__.py').touch()\n",
    "Path('setup.py').touch()\n",
    "Path('LICENSE').touch()\n",
    "Path('README.md').touch()\n",
    "Path('tests').mkdir()"
   ]
  },
  {
   "cell_type": "code",
   "execution_count": 7,
   "metadata": {},
   "outputs": [
    {
     "name": "stdout",
     "output_type": "stream",
     "text": [
      "Overwriting setup.py\n"
     ]
    }
   ],
   "source": [
    "%%writefile setup.py\n",
    "import setuptools\n",
    "\n",
    "with open(\"README.md\", \"r\") as fh:\n",
    "    long_description = fh.read()\n",
    "\n",
    "setuptools.setup(\n",
    "    name=\"bk_packages\", \n",
    "    version=\"0.0.1\",\n",
    "    author=\"byunghyun_kang\",\n",
    "    author_email=\"danjong99@gmail.com\",\n",
    "    description=\"A small python package which downsizes input scRNAseq matrix\",\n",
    "    long_description=long_description,\n",
    "    long_description_content_type=\"text/markdown\",\n",
    "    url=\"https://github.com/danjong99/project_spring_2020\",\n",
    "    packages=setuptools.find_packages(),\n",
    "    classifiers=[\n",
    "        \"Programming Language :: Python :: 3\",\n",
    "        \"License :: OSI Approved :: MIT License\",\n",
    "        \"Operating System :: OS Independent\",\n",
    "    ],\n",
    "    python_requires='>=3.6',\n",
    "\n",
    ")"
   ]
  },
  {
   "cell_type": "code",
   "execution_count": 1,
   "metadata": {},
   "outputs": [
    {
     "data": {
      "text/plain": [
       "'/Users/kangb3/github/project_spring_2020'"
      ]
     },
     "execution_count": 1,
     "metadata": {},
     "output_type": "execute_result"
    }
   ],
   "source": []
  },
  {
   "cell_type": "code",
   "execution_count": 2,
   "metadata": {},
   "outputs": [
    {
     "name": "stdout",
     "output_type": "stream",
     "text": [
      "Overwriting README.md\n"
     ]
    }
   ],
   "source": [
    "%%writefile README.md\n",
    "# Single Cell Random Drawing\n",
    "\n",
    "This python package will enable for users to reduce the size of input scRNAseq matrix by random selection of a given number of samples within pre-defined clusters and averaging the gene expression value of the chosen cells.\n",
    "\n",
    "# Import\n",
    "  - from bk_packages.shrink_mtx import rand_draw\n",
    "\n",
    "# Input\n",
    "  1. Expression matrix of scRNAseq (gene by cells) - mtx\n",
    "  2. Metadata (cell ids and cluster or cell type info) - meta\n",
    "  3. For visualization, pre-calculated tSNE or UMAP coordinates can be tossed along with metadata\n",
    "\n",
    "# Description\n",
    "\n",
    "  1. Using well-built packages e.g. numpy and pandas are avoided as much as possible because this is class final project.\n",
    "     However, numpy, pandas, matplotlib and seaborn used for visualization of input and output.\n",
    "  2. I used class, which seems redundant in this case, for practice. Version w/o class is in old code folder (but not complete).\n",
    "  3. How it works.\n",
    "     'rand_draw' class has 4 essential methods (annotated by Alphabet A-D) to accomplish the intended task.\n",
    "        - First, generate an object (obj = rand_draw(mtx, meta, num_to_select))\n",
    "        - you should perform obj.A-(), .B-(), .C-() and .D-() in order.\n",
    "        - obj.E-() is brief report of the result.\n",
    "        - obj.tSNE_intput() / .tSNE_output() give original/shrunken tSNE plot, repectively.\n",
    "    \n",
    "# Returns\n",
    "  1. shrunken matrix\n",
    "  2. shrunken metadata\n",
    "  3. cell.ids of randomly selected cells\n",
    "  4. tSNE plot, if the coordinates were given.\n",
    "\n",
    "# The benefit of downsizing cells with averaging the exprssion levels of gene?\n",
    "  1. downsizing itself reduce the calculation burden --> reducing calculation time\n",
    "  2. Increase the resolution of differential gene expressin.\n",
    "\n",
    "(e.g. assume that you have 400 cells in cluster 1 of your scRNAseq data, and if you set the number of cells to be chosen as 20, then 20 cells from cluster 1 of your data will be randomly and repeatedly selected with no replacement. This process will downsize the cluster 1 from 400 cells to 20 cells with better gene expression resolution.)"
   ]
  },
  {
   "cell_type": "code",
   "execution_count": 9,
   "metadata": {},
   "outputs": [
    {
     "name": "stdout",
     "output_type": "stream",
     "text": [
      "Overwriting LICENSE\n"
     ]
    }
   ],
   "source": [
    "%%writefile LICENSE\n",
    "Copyright (c) 2018 The Python Packaging Authority\n",
    "\n",
    "Permission is hereby granted, free of charge, to any person obtaining a copy\n",
    "of this software and associated documentation files (the \"Software\"), to deal\n",
    "in the Software without restriction, including without limitation the rights\n",
    "to use, copy, modify, merge, publish, distribute, sublicense, and/or sell\n",
    "copies of the Software, and to permit persons to whom the Software is\n",
    "furnished to do so, subject to the following conditions:\n",
    "\n",
    "The above copyright notice and this permission notice shall be included in all\n",
    "copies or substantial portions of the Software.\n",
    "\n",
    "THE SOFTWARE IS PROVIDED \"AS IS\", WITHOUT WARRANTY OF ANY KIND, EXPRESS OR\n",
    "IMPLIED, INCLUDING BUT NOT LIMITED TO THE WARRANTIES OF MERCHANTABILITY,\n",
    "FITNESS FOR A PARTICULAR PURPOSE AND NONINFRINGEMENT. IN NO EVENT SHALL THE\n",
    "AUTHORS OR COPYRIGHT HOLDERS BE LIABLE FOR ANY CLAIM, DAMAGES OR OTHER\n",
    "LIABILITY, WHETHER IN AN ACTION OF CONTRACT, TORT OR OTHERWISE, ARISING FROM,\n",
    "OUT OF OR IN CONNECTION WITH THE SOFTWARE OR THE USE OR OTHER DEALINGS IN THE\n",
    "SOFTWARE."
   ]
  },
  {
   "cell_type": "code",
   "execution_count": 27,
   "metadata": {},
   "outputs": [
    {
     "name": "stdout",
     "output_type": "stream",
     "text": [
      "/Users/kangb3/github/project_spring_2020\n"
     ]
    }
   ],
   "source": [
    "%pwd"
   ]
  },
  {
   "cell_type": "code",
   "execution_count": 28,
   "metadata": {},
   "outputs": [
    {
     "name": "stdout",
     "output_type": "stream",
     "text": [
      "Overwriting bk_packages/basic_methods.py\n"
     ]
    }
   ],
   "source": [
    "%%writefile bk_packages/basic_methods.py\n",
    "\n",
    "def unique(input_list):\n",
    "    \"\"\"Return unique value of the input list\"\"\"  \n",
    "    try:\n",
    "        # intilize a null list \n",
    "        unique_list = [] \n",
    "        # traverse for all elements \n",
    "        for x in input_list: \n",
    "            # check if exists in unique_list or not \n",
    "            if x not in unique_list: \n",
    "                unique_list.append(x)\n",
    "        return(unique_list)\n",
    "    except TypeError as detail:\n",
    "        return (\"int object is not iterable\")\n",
    "\n",
    "def t(mtx):\n",
    "    \"\"\"T-transform the Input Matrix\"\"\"\n",
    "    try:\n",
    "        if type(mtx) is str: #if the input is str, raise exception.\n",
    "            raise Exception('Error: the input should be a list of lists.')\n",
    "        \n",
    "        for i in range(0, len(mtx)):\n",
    "            assert len(mtx[i]) == len(mtx[i-1]) # check whether each list has the same length.\n",
    "        \n",
    "        ## Execution code\n",
    "        mtx_t = []\n",
    "        for j in range(0, len(mtx[0])):\n",
    "            mtx_t.append( [mtx[i][j] for i in range(0,len(mtx))] )\n",
    "        return(mtx_t)\n",
    "    \n",
    "    except TypeError as detail: # Control TypeEorror.\n",
    "        return ('Error: the input should be a list of lists.')\n",
    "    except AssertionError as detail:\n",
    "        return ('Error: length of the lists should be the same')\n",
    "\n",
    "def convert_to_float(input_list):\n",
    "    \"\"\"Convert list of str to list of float\"\"\"\n",
    "    try:\n",
    "        list_float = [float(i) for i in input_list]\n",
    "        return(list_float)\n",
    "    except ValueError as detail:\n",
    "        return (\"input is not convertible to float.\")\n",
    "\n",
    "def rowSum(mtx):\n",
    "    \"\"\"Return all row-sums as a list\"\"\"\n",
    "    try:\n",
    "        for i in range(0, len(mtx)):\n",
    "            assert len(mtx[i]) == len(mtx[i-1]) # check whether each list has the same length.\n",
    "        \n",
    "        res = list()\n",
    "        for j in range(0, len(mtx[0])): \n",
    "            tmp = 0\n",
    "            for i in range(0, len(mtx)): \n",
    "                tmp = tmp + mtx[i][j]\n",
    "            res.append(tmp)\n",
    "        return(res)\n",
    "    \n",
    "    except AssertionError as detail:\n",
    "        return ('Length of lists is irregular or input format is wrong.')\n",
    "    except TypeError as detail:\n",
    "        return ('Undefined operand type')\n",
    "\n",
    "def rowMean(mtx):\n",
    "    \"\"\"Return all row-sums as a list\"\"\"\n",
    "    try:\n",
    "        for i in range(0, len(mtx)):\n",
    "            assert len(mtx[i]) == len(mtx[i-1]) # check whether each list has the same length.\n",
    "        \n",
    "        res = list()\n",
    "        for j in range(0, len(mtx[0])): \n",
    "            tmp = 0\n",
    "            for i in range(0, len(mtx)): \n",
    "                tmp = tmp + mtx[i][j]\n",
    "            res.append(tmp/len(mtx))\n",
    "        return(res)\n",
    "    \n",
    "    except AssertionError as detail:\n",
    "        return ('Length of lists is irregular or input format is wrong.')\n",
    "    except TypeError as detail:\n",
    "        return ('Undefined operand type')"
   ]
  },
  {
   "cell_type": "code",
   "execution_count": 44,
   "metadata": {},
   "outputs": [
    {
     "name": "stdout",
     "output_type": "stream",
     "text": [
      "Overwriting bk_packages/shrink_mtx.py\n"
     ]
    }
   ],
   "source": [
    "%%writefile bk_packages/shrink_mtx.py\n",
    "\n",
    "import pandas as pd\n",
    "import numpy as np\n",
    "from matplotlib import pyplot as plt\n",
    "import seaborn as sns\n",
    "from bk_packages.basic_methods import *\n",
    "import random\n",
    "import math\n",
    "from bk_packages.basic_methods import unique, t, convert_to_float, rowMean\n",
    "\n",
    "class rand_draw():\n",
    "    \"\"\"A simple way to visualize the results\"\"\"\n",
    "\n",
    "    def __init__(self, mtx, meta, num_to_select=20):\n",
    "        \n",
    "        \"\"\"Initialize object's attributes\"\"\"\n",
    "        \n",
    "        self.mtx = mtx\n",
    "        self.meta = meta\n",
    "        self.num_to_select = num_to_select\n",
    "        \n",
    "        self.meta_by_cluster = []\n",
    "        self.meta_dic = {}\n",
    "        self.mtx_dic = {}\n",
    "        self.dic_random_items = {}\n",
    "        self.mtx_small = {}\n",
    "        \n",
    "    def A_clustocell_dic_generator(self):\n",
    "        \n",
    "        \"\"\"Return {cluster:cell.ids} dictionary \"\"\"\n",
    "        \n",
    "        temp = [self.meta[i][2] for i in range(0,len(self.meta))] # extract cell cluster info\n",
    "        unique_cluster = unique(temp[1:])         # take unique cluster info\n",
    "        unique_cluster = sorted(unique_cluster)\n",
    "\n",
    "        ## group cell.ids based on their cluster\n",
    "        for cluster in unique_cluster:\n",
    "            index = [i for i, n in enumerate(temp) if n == cluster] # extract the indices of rows in a given cluster\n",
    "            a = [self.meta[i][1:3] for i in index] # using the indices, extract cell.id and assigned cluster info.\n",
    "            self.meta_by_cluster.append(a)\n",
    "    \n",
    "        # convert the list acquired above to dictionary with the cluster as keys\n",
    "        for j in range(0, len(unique_cluster)):\n",
    "            self.meta_dic[ self.meta_by_cluster[j][0][1] ] = [ self.meta_by_cluster[j][i][0] for i in range(0, len(self.meta_by_cluster[j]))]\n",
    "    \n",
    "    def B_celltogene_dic_generator(self):\n",
    "        \"\"\"Apply T-transformation and convert the list of lists to Dictionary\"\"\"\n",
    "        \"\"\"with cell.id as keys and gene expression as value\"\"\"\n",
    "        mtx_t = t(self.mtx)\n",
    "        for line in mtx_t:\n",
    "            self.mtx_dic[line[0]] = line[1:]\n",
    "    \n",
    "    def C_random_selector(self, num_to_select = None):\n",
    "        \"\"\"Random selection of cell.ids from each cluster\"\"\"\n",
    "            \n",
    "        if num_to_select != None:\n",
    "            if isinstance(num_to_select, int):\n",
    "                self.num_to_select = num_to_select\n",
    "            else:\n",
    "                raise Exception('Error: \"num_to_select\" undefined type')\n",
    "                return 0\n",
    "        \n",
    "        self.dic_random_items = {} # reset dic_random_items\n",
    "        for key in self.meta_dic.keys():\n",
    "                        \n",
    "            clust_cell_ids = self.meta_dic[key].copy()\n",
    "\n",
    "            # determine the number of cycle to run in the following loop.\n",
    "            if len(self.meta_dic[key]) < self.num_to_select:\n",
    "                print(\"Number of items to select exceeds the number of items in the list.\")\n",
    "                print(\"Remember this is random selection without replacement.\")\n",
    "                cycle_to_run = math.floor(len(self.meta_dic[key])/self.num_to_select)\n",
    "            elif len(self.meta_dic[key])%self.num_to_select == 0:\n",
    "                cycle_to_run = int(len(self.meta_dic[key])/self.num_to_select)\n",
    "            else:\n",
    "                cycle_to_run = math.ceil(len(self.meta_dic[key])/self.num_to_select)\n",
    "\n",
    "            for i in range(0, cycle_to_run): # random sampling from the given list without replacement\n",
    "                if len(clust_cell_ids) > self.num_to_select:\n",
    "                    a = random.sample(clust_cell_ids, self.num_to_select)\n",
    "                    self.dic_random_items[ a[0] ] = a  # takes the first cell.id among selected ones as a key.\n",
    "                    [clust_cell_ids.remove(a[i]) for i in range(0,len(a))] # selected cell.ids are removed from the dic.\n",
    "                elif len(clust_cell_ids) < self.num_to_select: # the remaining cells are taken \n",
    "                    a = clust_cell_ids\n",
    "                    self.dic_random_items[ a[0] ] = a\n",
    "    \n",
    "    def D_avg_gene(self):\n",
    "        \n",
    "        \"\"\"Average gene expression values by defined rowMean fuction\"\"\"\n",
    "        \n",
    "        a = self.mtx_dic['gene'].copy()\n",
    "        self.mtx_small['gene'] = a\n",
    "    \n",
    "        for key, values in self.dic_random_items.items():\n",
    "            temp = []\n",
    "            a = []\n",
    "            for value in values:\n",
    "                a = self.mtx_dic[ value ].copy()\n",
    "                temp.append(convert_to_float(a))\n",
    "            self.mtx_small[ key ] = rowMean(temp)\n",
    "    \n",
    "        #[v.insert(0,k) for k, v in mtx_small.items()]\n",
    "        #temp_2 = [x for x in mtx_small.values()]    \n",
    "        #temp = t(temp_2)\n",
    "        #self.final_mtx = temp.copy()\n",
    "    \n",
    "    def E_briefing(self):\n",
    "        \n",
    "        \"\"\"Briefly reports the result of random selection\"\"\"\n",
    "        \n",
    "        meta_by_clus_temp = []\n",
    "        for i in range(0, len(self.meta_by_cluster)):\n",
    "            for j in range(0, len(self.meta_by_cluster[i])):\n",
    "                meta_by_clus_temp.append(self.meta_by_cluster[i][j])\n",
    "        \n",
    "        meta_by_clus_dic = {}\n",
    "        for i in range(0, len(meta_by_clus_temp)):\n",
    "            meta_by_clus_dic[ meta_by_clus_temp[i][0] ] = meta_by_clus_temp[i][1]\n",
    "\n",
    "        for k, v in self.dic_random_items.items():\n",
    "            print( \"Key Cell ID: \" + k + \" - Assigned Cluster: \" + str(meta_by_clus_dic[k]) + \" - Number of Cell: \" + str(len(v)))\n",
    "\n",
    "        \n",
    "    def tSNE_input(self):\n",
    "        \n",
    "        \"\"\"Visualize tSNE cooridinates from original metadata\"\"\"\n",
    "               \n",
    "        temp = pd.DataFrame.from_dict(self.meta)\n",
    "        temp.columns = [temp.iloc[0][i] for i in range(0,len(temp.columns))]\n",
    "        pd_meta = temp.iloc[1:].copy()\n",
    "        pd_meta[['tSNE_1','tSNE_2']] = pd_meta[['tSNE_1','tSNE_2']].astype(float)\n",
    "\n",
    "        sns.lmplot(x='tSNE_1',\n",
    "                   y='tSNE_2',\n",
    "                   data=pd_meta,\n",
    "                   fit_reg=False,\n",
    "                   legend=True,\n",
    "                   height=9,\n",
    "                   hue='cluster',\n",
    "                   scatter_kws={\"s\":200, \"alpha\":0.3})\n",
    "\n",
    "        title = ('tSNE Plot of %s Mouse Colon Cells'% len(pd_meta))\n",
    "        plt.title(title, weight='bold').set_fontsize('14')\n",
    "        plt.xlabel('tSNE 1', weight='bold').set_fontsize('20')\n",
    "        plt.ylabel('tSEN 2', weight='bold').set_fontsize('20')\n",
    "    \n",
    "    \n",
    "    def tSNE_output(self):\n",
    "        \n",
    "        \"\"\"Visualize tSNE cooridinates from shrunken metadata\"\"\"\n",
    "        \n",
    "        if bool(self.mtx_small):\n",
    "            \n",
    "            temp = pd.DataFrame.from_dict(self.meta)\n",
    "            temp.columns = [temp.iloc[0][i] for i in range(0,len(temp.columns))]\n",
    "            pd_meta = temp.iloc[1:].copy()\n",
    "\n",
    "            pd_mtx_small = pd.DataFrame.from_dict(self.mtx_small)\n",
    "            pd_meta.index = pd_meta['cell.id']\n",
    "            df = pd_meta[ pd_meta.index.isin(pd_mtx_small.columns) ]       \n",
    "            df[['tSNE_1','tSNE_2']] = df[['tSNE_1','tSNE_2']].astype(float)\n",
    "\n",
    "            sns.lmplot(x='tSNE_1',\n",
    "                       y='tSNE_2',\n",
    "                       data=df,\n",
    "                       fit_reg=False,\n",
    "                       legend=True,\n",
    "                       height=9,\n",
    "                       hue='cluster',\n",
    "                       scatter_kws={\"s\":200, \"alpha\":0.3})\n",
    "\n",
    "            title = ('tSNE Plot of %s Mouse Colon Cells'% len(df))\n",
    "            plt.title(title, weight='bold').set_fontsize('14')\n",
    "            plt.xlabel('tSNE 1', weight='bold').set_fontsize('20')\n",
    "            plt.ylabel('tSEN 2', weight='bold').set_fontsize('20')\n",
    "        \n",
    "        else:\n",
    "            print(\"shrunken mtx is empy. A,B,C methods should be run.\")"
   ]
  },
  {
   "cell_type": "code",
   "execution_count": 45,
   "metadata": {
    "scrolled": true
   },
   "outputs": [
    {
     "name": "stdout",
     "output_type": "stream",
     "text": [
      "Overwriting tests/test_basics.py\n"
     ]
    }
   ],
   "source": [
    "%%writefile tests/test_basics.py\n",
    "\n",
    "from bk_packages.basic_methods import t, convert_to_float, unique, rowSum, rowMean\n",
    "\n",
    "def test_t():\n",
    "    input_list = [[1,2,3],[4,5,6],[7,8,9],[10,11,12]]\n",
    "    obs = t(input_list)\n",
    "    exp = [[1, 4, 7, 10], [2, 5, 8, 11], [3, 6, 9, 12]]\n",
    "    assert obs == exp\n",
    "\n",
    "def test_convertTofloat():\n",
    "    input_list = ['1','2','3','4','5','6','7','8','9','10']\n",
    "    obs = convert_to_float(input_list)\n",
    "    exp = [1.0, 2.0, 3.0, 4.0, 5.0, 6.0, 7.0, 8.0, 9.0, 10.0]\n",
    "    assert obs == exp\n",
    "\n",
    "def test_unique():\n",
    "    input_list = [1,1,1,2,2,2,3,3,4,4,5,5,6,6,7,8,9,9,9,9,9,9,10]\n",
    "    obs = unique(input_list)\n",
    "    exp = [1, 2, 3, 4, 5, 6, 7, 8, 9, 10]\n",
    "    assert obs == exp\n",
    "\n",
    "def test_rowSum():\n",
    "    input_list = [[1,2,3],[4,5,6],[7,8,9],[10,11,12]]\n",
    "    obs = rowSum(input_list)\n",
    "    exp = [22, 26, 30]\n",
    "    assert obs == exp\n",
    "\n",
    "def test_rowMean():\n",
    "    input_list = [[1,2,3],[4,5,6],[7,8,9],[10,11,12]]\n",
    "    obs = rowMean(input_list)\n",
    "    exp = [5.5, 6.5, 7.5]\n",
    "    assert obs == exp"
   ]
  },
  {
   "cell_type": "code",
   "execution_count": 14,
   "metadata": {},
   "outputs": [
    {
     "name": "stdout",
     "output_type": "stream",
     "text": [
      "Overwriting tests/test_shrink_mtx.py\n"
     ]
    }
   ],
   "source": [
    "%%writefile tests/test_shrink_mtx.py\n",
    "\n",
    "import numpy as np\n",
    "import pandas as pd\n",
    "from matplotlib import pyplot as plt\n",
    "import seaborn as sns\n",
    "from bk_packages.shrink_mtx import rand_draw\n",
    "\n",
    "#### Read Meta Files - read as list of lists\n",
    "meta = []\n",
    "with open(\"tests/metatable.txt\") as f_obj:\n",
    "     for line in f_obj:\n",
    "        res = line.replace('\"','').strip('\\n').split('\\t')\n",
    "        meta.append(res)\n",
    "    \n",
    "### Insert one element in the 1th list of the meta data\n",
    "meta[0].insert(0,'rowname')\n",
    "    \n",
    "### Read matrix file - read as list of lists\n",
    "mtx = []\n",
    "with open(\"tests/exprs_mtx.txt\") as f_obj:\n",
    "    for line in f_obj:\n",
    "        res = line.replace('\"','').strip('\\n').split('\\t')\n",
    "        mtx.append(res)\n",
    "    \n",
    "### Insert one element in the 1th list of the mtx\n",
    "mtx[0].insert(0,'gene')\n",
    "\n",
    "my_data = rand_draw(mtx=mtx, meta=meta, num_to_select=20)\n",
    "\n",
    "def test_clustocell_dic_generator():\n",
    "    my_data.A_clustocell_dic_generator()\n",
    "    obs = []\n",
    "    for i in range(0, len(my_data.meta_by_cluster)):\n",
    "        obs.append(len(my_data.meta_by_cluster[i]))\n",
    "    exp = [200,200,200,132,57,200,200,200,200,200,200,200,200]\n",
    "    assert obs == exp\n",
    "\n",
    "def test_clustocell_dic_generator():\n",
    "    my_data.A_clustocell_dic_generator()\n",
    "    obs = {}\n",
    "    for k, v in my_data.meta_dic.items():\n",
    "        obs[k] = len(v)\n",
    "    exp = {'0': 200,'1': 200,'10': 200,'11': 132,'12': 57,'2': 200,'3': 200,'4': 200,'5': 200,'6': 200,'7': 200,'8': 200,'9': 200}\n",
    "    assert obs == exp\n",
    "\n",
    "def test_celltogene_dic_generator():\n",
    "    my_data.B_celltogene_dic_generator()\n",
    "    a = []\n",
    "    for k in my_data.mtx_dic.keys():\n",
    "        a.append(k)\n",
    "    obs = {}\n",
    "    obs[a[0]] = len(a[1:])\n",
    "    exp = {'gene': 2389}\n",
    "    assert obs == exp\n",
    "\n",
    "def test_random_selector():\n",
    "    my_data.C_random_selector(num_to_select=56)\n",
    "    obs = []\n",
    "    for k, v in my_data.dic_random_items.items():\n",
    "        obs.append(len(v))\n",
    "    exp = [56,56,56,32,56,56,56,32,56,56,56,32,56,56,20,56,1,56,56,56,32,56,56,56,\n",
    "           32,56,56,56,32,56,56,56,32,56,56,56,32,56,56,56,32,56,56,56,32,56,56,56,32]\n",
    "    assert obs == exp"
   ]
  },
  {
   "cell_type": "code",
   "execution_count": 5,
   "metadata": {},
   "outputs": [
    {
     "name": "stdout",
     "output_type": "stream",
     "text": [
      "Overwriting bk_packages/main.py\n"
     ]
    }
   ],
   "source": [
    "%%writefile bk_packages/main.py\n",
    "\n",
    "def main():\n",
    "    \n",
    "if __name__ == '__main__':\n",
    "    main()"
   ]
  },
  {
   "cell_type": "code",
   "execution_count": 15,
   "metadata": {
    "scrolled": true
   },
   "outputs": [
    {
     "name": "stdout",
     "output_type": "stream",
     "text": [
      "Obtaining file:///Users/kangb3/github/project_spring_2020\n",
      "Installing collected packages: bk-packages\n",
      "  Attempting uninstall: bk-packages\n",
      "    Found existing installation: bk-packages 0.0.1\n",
      "    Uninstalling bk-packages-0.0.1:\n",
      "      Successfully uninstalled bk-packages-0.0.1\n",
      "  Running setup.py develop for bk-packages\n",
      "Successfully installed bk-packages\n"
     ]
    }
   ],
   "source": [
    "!pip install -e ."
   ]
  },
  {
   "cell_type": "code",
   "execution_count": 16,
   "metadata": {
    "scrolled": true
   },
   "outputs": [
    {
     "name": "stdout",
     "output_type": "stream",
     "text": [
      "\u001b[1m============================= test session starts ==============================\u001b[0m\n",
      "platform darwin -- Python 3.7.1, pytest-4.1.0, py-1.7.0, pluggy-0.8.0\n",
      "rootdir: /Users/kangb3/github/project_spring_2020, inifile:\n",
      "plugins: remotedata-0.3.1, openfiles-0.3.1, doctestplus-0.2.0, dependency-0.4.0, arraydiff-0.2\n",
      "collected 8 items                                                              \u001b[0m\u001b[1m\n",
      "\n",
      "tests/test_basics.py \u001b[32m.\u001b[0m\u001b[32m.\u001b[0m\u001b[32m.\u001b[0m\u001b[32m.\u001b[0m\u001b[32m.\u001b[0m\u001b[36m                                               [ 62%]\u001b[0m\n",
      "tests/test_shrink_mtx.py \u001b[32m.\u001b[0m\u001b[32m.\u001b[0m\u001b[32m.\u001b[0m\u001b[36m                                             [100%]\u001b[0m\n",
      "\n",
      "\u001b[33m=============================== warnings summary ===============================\u001b[0m\n",
      "/anaconda3/lib/python3.7/site-packages/pandas/core/dtypes/inference.py:6\n",
      "  /anaconda3/lib/python3.7/site-packages/pandas/core/dtypes/inference.py:6: DeprecationWarning: Using or importing the ABCs from 'collections' instead of from 'collections.abc' is deprecated, and in 3.8 it will stop working\n",
      "    from collections import Iterable\n",
      "\n",
      "/anaconda3/lib/python3.7/site-packages/pandas/core/tools/datetimes.py:3\n",
      "  /anaconda3/lib/python3.7/site-packages/pandas/core/tools/datetimes.py:3: DeprecationWarning: Using or importing the ABCs from 'collections' instead of from 'collections.abc' is deprecated, and in 3.8 it will stop working\n",
      "    from collections import MutableMapping\n",
      "\n",
      "/anaconda3/lib/python3.7/site-packages/ipywidgets/widgets/widget_selection.py:9\n",
      "  /anaconda3/lib/python3.7/site-packages/ipywidgets/widgets/widget_selection.py:9: DeprecationWarning: Using or importing the ABCs from 'collections' instead of from 'collections.abc' is deprecated, and in 3.8 it will stop working\n",
      "    from collections import Mapping, Iterable\n",
      "\n",
      "-- Docs: https://docs.pytest.org/en/latest/warnings.html\n",
      "\u001b[33m\u001b[1m==================== 8 passed, 3 warnings in 11.19 seconds =====================\u001b[0m\n"
     ]
    }
   ],
   "source": [
    "!pytest"
   ]
  }
 ],
 "metadata": {
  "kernelspec": {
   "display_name": "Python 3",
   "language": "python",
   "name": "python3"
  },
  "language_info": {
   "codemirror_mode": {
    "name": "ipython",
    "version": 3
   },
   "file_extension": ".py",
   "mimetype": "text/x-python",
   "name": "python",
   "nbconvert_exporter": "python",
   "pygments_lexer": "ipython3",
   "version": "3.7.1"
  }
 },
 "nbformat": 4,
 "nbformat_minor": 2
}
