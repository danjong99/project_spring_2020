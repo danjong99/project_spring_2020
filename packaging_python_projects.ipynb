{
 "cells": [
  {
   "cell_type": "code",
   "execution_count": 3,
   "metadata": {},
   "outputs": [
    {
     "data": {
      "text/plain": [
       "'/Users/kangb3/github/project_spring_2020'"
      ]
     },
     "execution_count": 3,
     "metadata": {},
     "output_type": "execute_result"
    }
   ],
   "source": [
    "%pwd"
   ]
  },
  {
   "cell_type": "markdown",
   "metadata": {},
   "source": [
    "# Packaging with python"
   ]
  },
  {
   "cell_type": "markdown",
   "metadata": {},
   "source": [
    "This lesson draws heavily on the [python guide to packaging](https://packaging.python.org/tutorials/packaging-projects/).\n",
    "\n"
   ]
  },
  {
   "cell_type": "markdown",
   "metadata": {},
   "source": [
    "#### A very basic setup"
   ]
  },
  {
   "cell_type": "markdown",
   "metadata": {},
   "source": [
    "We will start by creating a new directory for our work on a package:"
   ]
  },
  {
   "cell_type": "code",
   "execution_count": 4,
   "metadata": {},
   "outputs": [
    {
     "ename": "ModuleNotFoundError",
     "evalue": "No module named 'class_setup'",
     "output_type": "error",
     "traceback": [
      "\u001b[0;31m---------------------------------------------------------------------------\u001b[0m",
      "\u001b[0;31mModuleNotFoundError\u001b[0m                       Traceback (most recent call last)",
      "\u001b[0;32m<ipython-input-4-199305b66a56>\u001b[0m in \u001b[0;36m<module>\u001b[0;34m\u001b[0m\n\u001b[0;32m----> 1\u001b[0;31m \u001b[0;32mfrom\u001b[0m \u001b[0mclass_setup\u001b[0m \u001b[0;32mimport\u001b[0m \u001b[0mcreate_package_dir\u001b[0m\u001b[0;34m\u001b[0m\u001b[0;34m\u001b[0m\u001b[0m\n\u001b[0m\u001b[1;32m      2\u001b[0m \u001b[0mcreate_package_dir\u001b[0m\u001b[0;34m(\u001b[0m\u001b[0;34m\"bk_packages\"\u001b[0m\u001b[0;34m)\u001b[0m\u001b[0;34m\u001b[0m\u001b[0;34m\u001b[0m\u001b[0m\n",
      "\u001b[0;31mModuleNotFoundError\u001b[0m: No module named 'class_setup'"
     ]
    }
   ],
   "source": [
    "from class_setup import create_package_dir\n",
    "create_package_dir(\"bk_packages\")"
   ]
  },
  {
   "cell_type": "markdown",
   "metadata": {},
   "source": [
    "Now we will create a directory structure for our package:"
   ]
  },
  {
   "cell_type": "code",
   "execution_count": 15,
   "metadata": {},
   "outputs": [
    {
     "name": "stdout",
     "output_type": "stream",
     "text": [
      "bk_packages\n"
     ]
    }
   ],
   "source": [
    "from pathlib import Path\n",
    "\n",
    "package_name = \"bk_packages\"\n",
    "python_dir = Path(package_name)\n",
    "print(python_dir)\n",
    "Path('tests').mkdir()\n",
    "(python_dir / '__init__.py').touch()\n",
    "Path('setup.py').touch()"
   ]
  },
  {
   "cell_type": "markdown",
   "metadata": {},
   "source": [
    "#### Adding metadata and installation details"
   ]
  },
  {
   "cell_type": "markdown",
   "metadata": {},
   "source": [
    "We now have many of the files that should be in a basic package. Let's start to generate some of the details.\n",
    "\n",
    "You can edit the following as you see fit. This setup.py file does the work for describing how your package is installed and telling users some of the details about package:"
   ]
  },
  {
   "cell_type": "code",
   "execution_count": 16,
   "metadata": {},
   "outputs": [
    {
     "name": "stdout",
     "output_type": "stream",
     "text": [
      "Overwriting setup.py\n"
     ]
    }
   ],
   "source": [
    "%%writefile setup.py\n",
    "import setuptools\n",
    "\n",
    "with open(\"README.md\", \"r\") as fh:\n",
    "    long_description = fh.read()\n",
    "\n",
    "setuptools.setup(\n",
    "    name=\"bk_pakages\", \n",
    "    version=\"0.0.1\",\n",
    "    author=\"byunghyun_kang\",\n",
    "    author_email=\"danjong99@gmail.com\",\n",
    "    description=\"A small example package\",\n",
    "    long_description=long_description,\n",
    "    long_description_content_type=\"text/markdown\",\n",
    "    url=\"https://github.com/pypa/packaging_demo\",\n",
    "    packages=setuptools.find_packages(),\n",
    "    classifiers=[\n",
    "        \"Programming Language :: Python :: 3\",\n",
    "        \"License :: OSI Approved :: MIT License\",\n",
    "        \"Operating System :: OS Independent\",\n",
    "    ],\n",
    "    python_requires='>=3.6',\n",
    "\n",
    ")"
   ]
  },
  {
   "cell_type": "markdown",
   "metadata": {},
   "source": [
    "#### Describing our project to potential users"
   ]
  },
  {
   "cell_type": "markdown",
   "metadata": {},
   "source": [
    "\n",
    "We should also always have a readme file to help our users to orient themselves. Since we would often use github to distribute our code, markdown is a sensible file format for this:"
   ]
  },
  {
   "cell_type": "code",
   "execution_count": 17,
   "metadata": {},
   "outputs": [
    {
     "name": "stdout",
     "output_type": "stream",
     "text": [
      "Overwriting README.md\n"
     ]
    }
   ],
   "source": [
    "%%writefile README.md\n",
    "# Example Package\n",
    "\n",
    "This is a simple example package. You can use\n",
    "[Github-flavored Markdown](https://guides.github.com/features/mastering-markdown/)\n",
    "to write your content."
   ]
  },
  {
   "cell_type": "markdown",
   "metadata": {},
   "source": [
    "#### Letting others use our code"
   ]
  },
  {
   "cell_type": "markdown",
   "metadata": {},
   "source": [
    "You should always [choose a licence](https://choosealicense.com) to include with your code. It helps others to determine how they can use your code. Without a licence, most people simply cannot use your code based on their organizations regulations."
   ]
  },
  {
   "cell_type": "code",
   "execution_count": 18,
   "metadata": {},
   "outputs": [
    {
     "name": "stdout",
     "output_type": "stream",
     "text": [
      "Overwriting LICENSE\n"
     ]
    }
   ],
   "source": [
    "%%writefile LICENSE\n",
    "Copyright (c) 2018 The Python Packaging Authority\n",
    "\n",
    "Permission is hereby granted, free of charge, to any person obtaining a copy\n",
    "of this software and associated documentation files (the \"Software\"), to deal\n",
    "in the Software without restriction, including without limitation the rights\n",
    "to use, copy, modify, merge, publish, distribute, sublicense, and/or sell\n",
    "copies of the Software, and to permit persons to whom the Software is\n",
    "furnished to do so, subject to the following conditions:\n",
    "\n",
    "The above copyright notice and this permission notice shall be included in all\n",
    "copies or substantial portions of the Software.\n",
    "\n",
    "THE SOFTWARE IS PROVIDED \"AS IS\", WITHOUT WARRANTY OF ANY KIND, EXPRESS OR\n",
    "IMPLIED, INCLUDING BUT NOT LIMITED TO THE WARRANTIES OF MERCHANTABILITY,\n",
    "FITNESS FOR A PARTICULAR PURPOSE AND NONINFRINGEMENT. IN NO EVENT SHALL THE\n",
    "AUTHORS OR COPYRIGHT HOLDERS BE LIABLE FOR ANY CLAIM, DAMAGES OR OTHER\n",
    "LIABILITY, WHETHER IN AN ACTION OF CONTRACT, TORT OR OTHERWISE, ARISING FROM,\n",
    "OUT OF OR IN CONNECTION WITH THE SOFTWARE OR THE USE OR OTHER DEALINGS IN THE\n",
    "SOFTWARE."
   ]
  },
  {
   "cell_type": "markdown",
   "metadata": {},
   "source": [
    "#### Add code to package up"
   ]
  },
  {
   "cell_type": "code",
   "execution_count": 19,
   "metadata": {},
   "outputs": [
    {
     "name": "stdout",
     "output_type": "stream",
     "text": [
      "Writing bk_packages/calc.py\n"
     ]
    }
   ],
   "source": [
    "%%writefile bk_packages/calc.py\n",
    "def add(x, y):\n",
    "    \"\"\"Add Function\"\"\"\n",
    "    return x + y\n",
    "\n",
    "\n",
    "def subtract(x, y):\n",
    "    \"\"\"Subtract Function\"\"\"\n",
    "    return x - y\n",
    "\n",
    "\n",
    "def multiply(x, y):\n",
    "    \"\"\"Multiply Function\"\"\"\n",
    "    return x * y\n",
    "\n",
    "\n",
    "def divide(x, y):\n",
    "    \"\"\"Divide Function\"\"\"\n",
    "    if y == 0:\n",
    "        raise ValueError('Can not divide by zero!')\n",
    "    return x / y    \n",
    "\n",
    "# see http://katyhuff.github.io/python-testing/03-exceptions/\n",
    "def mean(num_list):\n",
    "    try:\n",
    "        for num in num_list:\n",
    "            if isinstance(num, complex):\n",
    "                return NotImplemented\n",
    "        return sum(num_list)/len(num_list)\n",
    "    except ZeroDivisionError :\n",
    "        return 0\n",
    "    except TypeError as detail :\n",
    "        msg = \"The algebraic mean of an non-numerical list is undefined.\\\n",
    "               Please provide a list of numbers.\"\n",
    "        raise TypeError(detail.__str__() + \"\\n\" +  msg)\n"
   ]
  },
  {
   "cell_type": "code",
   "execution_count": 20,
   "metadata": {},
   "outputs": [
    {
     "name": "stdout",
     "output_type": "stream",
     "text": [
      "Writing bk_packages/fizzbuzz.py\n"
     ]
    }
   ],
   "source": [
    "%%writefile bk_packages/fizzbuzz.py\n",
    "def fizzbuzz(n,fizz=3,buzz=5):\n",
    "    output = []\n",
    "    for number in range(n):\n",
    "        if number % fizz == 0 and number % 5 == 0:\n",
    "            output.append((number,\"fizzbuzz\"))\n",
    "            continue\n",
    "        elif number % 3 == 0:\n",
    "            output.append((number,\"fizz\"))\n",
    "            continue\n",
    "        elif number % 5 == 0:\n",
    "            output.append((number,\"buzz\"))\n",
    "            continue\n",
    "    return output\n",
    "\n",
    "def main():\n",
    "    print(fizzbuzz(10))\n",
    "\n",
    "\n",
    "if __name__ == '__main__':\n",
    "    main()"
   ]
  },
  {
   "cell_type": "code",
   "execution_count": 21,
   "metadata": {},
   "outputs": [
    {
     "name": "stdout",
     "output_type": "stream",
     "text": [
      "Writing tests/test_computation.py\n"
     ]
    }
   ],
   "source": [
    "%%writefile tests/test_computation.py\n",
    "def test_sanity_of_the_world():\n",
    "    assert 2 + 2 == 4"
   ]
  },
  {
   "cell_type": "code",
   "execution_count": 22,
   "metadata": {},
   "outputs": [
    {
     "name": "stdout",
     "output_type": "stream",
     "text": [
      "Writing tests/test_mean.py\n"
     ]
    }
   ],
   "source": [
    "%%writefile tests/test_mean.py\n",
    "from bk_packages.calc import *\n",
    "\n",
    "def test_ints():\n",
    "    num_list = [1, 2, 3, 4, 5]\n",
    "    obs = mean(num_list)\n",
    "    exp = 3\n",
    "    assert obs == exp\n",
    "\n",
    "def test_zero():\n",
    "    num_list=[0,2,4,6]\n",
    "    obs = mean(num_list)\n",
    "    exp = 3\n",
    "    assert obs == exp\n",
    "\n",
    "def test_double():\n",
    "    # This one will fail in Python 2\n",
    "    num_list=[1,2,3,4]\n",
    "    obs = mean(num_list)\n",
    "    exp = 2.5\n",
    "    assert obs == exp\n",
    "\n",
    "def test_long():\n",
    "    big = 100000000\n",
    "    obs = mean(range(1,big))\n",
    "    exp = big/2.0\n",
    "    assert obs == exp\n",
    "\n",
    "def test_complex():\n",
    "    # given that complex numbers are an unordered field\n",
    "    # the arithmetic mean of complex numbers is meaningless\n",
    "    num_list = [2 + 3j, 3 + 4j, -32 - 2j]\n",
    "    obs = mean(num_list)\n",
    "    exp = NotImplemented\n",
    "    assert obs == exp"
   ]
  },
  {
   "cell_type": "markdown",
   "metadata": {},
   "source": [
    "And we are done! We now have all of the files to install our project, and a little code to see what happens. There are 3 ways of installing this code:\n",
    "    \n",
    "1. Upload our code to PyPA. We won't do this. It's not hard but you will really want to share your code before you want to do that.\n",
    "2. Install directly from github. As our package is now we are able to upload it to github and then have other users install our project directly from there!\n",
    "3. Install it from our local version. This is the easiest for now so lets do that."
   ]
  },
  {
   "cell_type": "code",
   "execution_count": 23,
   "metadata": {},
   "outputs": [
    {
     "data": {
      "text/plain": [
       "'/Users/kangb3/github/project_spring_2020'"
      ]
     },
     "execution_count": 23,
     "metadata": {},
     "output_type": "execute_result"
    }
   ],
   "source": [
    "%pwd"
   ]
  },
  {
   "cell_type": "code",
   "execution_count": 24,
   "metadata": {},
   "outputs": [
    {
     "name": "stdout",
     "output_type": "stream",
     "text": [
      "Obtaining file:///Users/kangb3/github/project_spring_2020\n",
      "Installing collected packages: bk-pakages\n",
      "  Running setup.py develop for bk-pakages\n",
      "Successfully installed bk-pakages\n"
     ]
    }
   ],
   "source": [
    "!pip install -e ."
   ]
  },
  {
   "cell_type": "code",
   "execution_count": 26,
   "metadata": {},
   "outputs": [
    {
     "data": {
      "text/plain": [
       "'/Users/kangb3/github/project_spring_2020'"
      ]
     },
     "execution_count": 26,
     "metadata": {},
     "output_type": "execute_result"
    }
   ],
   "source": [
    "%pwd"
   ]
  },
  {
   "cell_type": "markdown",
   "metadata": {},
   "source": [
    "# Revisiting tests"
   ]
  },
  {
   "cell_type": "markdown",
   "metadata": {},
   "source": [
    "Let's once again try to run or tests from last week. We'll copy the files from last week and then see if we can run them."
   ]
  },
  {
   "cell_type": "code",
   "execution_count": 30,
   "metadata": {},
   "outputs": [
    {
     "name": "stdout",
     "output_type": "stream",
     "text": [
      "Old file tests/test_computation.py\n",
      "tests/test_computation.py\n",
      "Old file tests/test_mean.py\n",
      "tests/test_mean.py\n"
     ]
    }
   ],
   "source": [
    "for f in Path('tests').glob('*.py'):\n",
    "    print(f\"Old file {f}\")\n",
    "    new_file = Path(\"tests\") / f.name\n",
    "    print(new_file)\n",
    "    new_file.write_text(f.read_text().replace(\"mymath\",\"example_pkg\"))"
   ]
  },
  {
   "cell_type": "code",
   "execution_count": 31,
   "metadata": {},
   "outputs": [
    {
     "data": {
      "text/plain": [
       "PosixPath('/Users/kangb3/github/project_spring_2020/tests/test_mean.py')"
      ]
     },
     "execution_count": 31,
     "metadata": {},
     "output_type": "execute_result"
    }
   ],
   "source": [
    "new_file.absolute()"
   ]
  },
  {
   "cell_type": "code",
   "execution_count": 32,
   "metadata": {},
   "outputs": [
    {
     "name": "stdout",
     "output_type": "stream",
     "text": [
      "\u001b[1m============================= test session starts ==============================\u001b[0m\n",
      "platform darwin -- Python 3.7.1, pytest-4.1.0, py-1.7.0, pluggy-0.8.0\n",
      "rootdir: /Users/kangb3/github/project_spring_2020, inifile:\n",
      "plugins: remotedata-0.3.1, openfiles-0.3.1, doctestplus-0.2.0, dependency-0.4.0, arraydiff-0.2\n",
      "collected 6 items                                                              \u001b[0m\n",
      "\n",
      "tests/test_computation.py \u001b[32m.\u001b[0m\u001b[36m                                              [ 16%]\u001b[0m\n",
      "tests/test_mean.py \u001b[32m.\u001b[0m\u001b[32m.\u001b[0m\u001b[32m.\u001b[0m\u001b[32m.\u001b[0m\u001b[32m.\u001b[0m\u001b[36m                                                 [100%]\u001b[0m\n",
      "\n",
      "\u001b[32m\u001b[1m========================== 6 passed in 11.69 seconds ===========================\u001b[0m\n"
     ]
    }
   ],
   "source": [
    "!pytest"
   ]
  },
  {
   "cell_type": "code",
   "execution_count": 33,
   "metadata": {},
   "outputs": [],
   "source": [
    "import bk_packages"
   ]
  },
  {
   "cell_type": "code",
   "execution_count": 34,
   "metadata": {},
   "outputs": [
    {
     "data": {
      "text/plain": [
       "'/Users/kangb3/github/project_spring_2020/bk_packages/__init__.py'"
      ]
     },
     "execution_count": 34,
     "metadata": {},
     "output_type": "execute_result"
    }
   ],
   "source": [
    "bk_packages.__file__"
   ]
  }
 ],
 "metadata": {
  "kernelspec": {
   "display_name": "Python 3",
   "language": "python",
   "name": "python3"
  },
  "language_info": {
   "codemirror_mode": {
    "name": "ipython",
    "version": 3
   },
   "file_extension": ".py",
   "mimetype": "text/x-python",
   "name": "python",
   "nbconvert_exporter": "python",
   "pygments_lexer": "ipython3",
   "version": "3.7.6"
  }
 },
 "nbformat": 4,
 "nbformat_minor": 4
}
