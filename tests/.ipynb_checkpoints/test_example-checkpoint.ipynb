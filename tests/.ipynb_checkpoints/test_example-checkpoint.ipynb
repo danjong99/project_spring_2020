{
 "cells": [
  {
   "cell_type": "code",
   "execution_count": null,
   "metadata": {},
   "outputs": [],
   "source": [
    "import os\n",
    "import numpy as np\n",
    "import pandas as pd\n",
    "from matplotlib import pyplot as plt\n",
    "import seaborn as sns\n",
    "from bk_packages.shrinkmtx import rand_draw, shrunken_mtx\n",
    "from bk_packages.basic_methods import *"
   ]
  },
  {
   "cell_type": "code",
   "execution_count": null,
   "metadata": {},
   "outputs": [],
   "source": [
    "DATA_FOLDER=\"/Users/kangb3/github/project_spring_2020/tests/data/\"\n",
    "EXP_FNAME = os.path.join(DATA_FOLDER, \"exprs_mtx.txt\")\n",
    "META_FNAME = os.path.join(DATA_FOLDER, \"metatable.txt\")\n",
    "    \n",
    "#### Read Meta Files - read as list of lists\n",
    "meta = []\n",
    "with open(META_FNAME) as f_obj:\n",
    "     for line in f_obj:\n",
    "        res = line.replace('\"','').strip('\\n').split('\\t')\n",
    "        meta.append(res)\n",
    "    \n",
    "### Insert one element in the 1th list of the meta data\n",
    "meta[0].insert(0,'rowname')\n",
    "    \n",
    "### Read matrix file - read as list of lists\n",
    "mtx = []\n",
    "with open(EXP_FNAME) as f_obj:\n",
    "    for line in f_obj:\n",
    "        res = line.replace('\"','').strip('\\n').split('\\t')\n",
    "        mtx.append(res)\n",
    "    \n",
    "### Insert one element in the 1th list of the mtx\n",
    "mtx[0].insert(0,'gene')"
   ]
  },
  {
   "cell_type": "code",
   "execution_count": null,
   "metadata": {},
   "outputs": [],
   "source": [
    "my_data = rand_draw(mtx=mtx, meta=meta, num_to_select=20)\n",
    "my_data.A_clusTocell_dic_generator()\n",
    "my_data.B_cellTogene_dic_generator()\n",
    "\n",
    "print(my_data.num_to_select)\n",
    "my_data.C_random_selector(num_to_select=14)\n",
    "print(my_data.num_to_select)\n",
    "\n",
    "my_data.D_avg_gene()\n",
    "my_data.E_briefing()"
   ]
  },
  {
   "cell_type": "code",
   "execution_count": null,
   "metadata": {},
   "outputs": [],
   "source": [
    "my_data = shrunken_mtx(mtx=mtx, meta=meta, num_to_select=10)\n",
    "my_data.A_clusTocell_dic_generator()\n",
    "my_data.B_cellTogene_dic_generator()\n",
    "\n",
    "print(my_data.num_to_select)\n",
    "my_data.C_random_selector(num_to_select=45)\n",
    "print(my_data.num_to_select)\n",
    "\n",
    "my_data.D_avg_gene()\n",
    "my_data.E_briefing()"
   ]
  },
  {
   "cell_type": "code",
   "execution_count": null,
   "metadata": {},
   "outputs": [],
   "source": [
    "# additional methods only in child class\n",
    "my_data.tSNE_input()"
   ]
  },
  {
   "cell_type": "code",
   "execution_count": null,
   "metadata": {},
   "outputs": [],
   "source": [
    "# additional methods only in child class\n",
    "my_data.tSNE_output()"
   ]
  }
 ],
 "metadata": {
  "kernelspec": {
   "display_name": "Python 3",
   "language": "python",
   "name": "python3"
  },
  "language_info": {
   "codemirror_mode": {
    "name": "ipython",
    "version": 3
   },
   "file_extension": ".py",
   "mimetype": "text/x-python",
   "name": "python",
   "nbconvert_exporter": "python",
   "pygments_lexer": "ipython3",
   "version": "3.7.1"
  }
 },
 "nbformat": 4,
 "nbformat_minor": 2
}
